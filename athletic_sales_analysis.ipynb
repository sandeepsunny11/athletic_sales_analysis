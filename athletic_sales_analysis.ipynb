{
 "cells": [
  {
   "cell_type": "code",
   "execution_count": 2,
   "metadata": {},
   "outputs": [],
   "source": [
    "# Import Libraries and Dependencies\n",
    "import pandas as pd"
   ]
  },
  {
   "cell_type": "markdown",
   "metadata": {},
   "source": [
    "### 1. Combine and Clean the Data\n",
    "#### Import CSVs"
   ]
  },
  {
   "cell_type": "code",
   "execution_count": 3,
   "metadata": {},
   "outputs": [],
   "source": [
    "# Read the CSV files into DataFrames.\n",
    "df_2020 = pd.read_csv('athletic_sales_2020.csv')\n",
    "df_2021 = pd.read_csv('athletic_sales_2021.csv')"
   ]
  },
  {
   "cell_type": "code",
   "execution_count": 4,
   "metadata": {},
   "outputs": [
    {
     "name": "stdout",
     "output_type": "stream",
     "text": [
      "Athletic Sales 2020:\n"
     ]
    },
    {
     "data": {
      "text/html": [
       "<div>\n",
       "<style scoped>\n",
       "    .dataframe tbody tr th:only-of-type {\n",
       "        vertical-align: middle;\n",
       "    }\n",
       "\n",
       "    .dataframe tbody tr th {\n",
       "        vertical-align: top;\n",
       "    }\n",
       "\n",
       "    .dataframe thead th {\n",
       "        text-align: right;\n",
       "    }\n",
       "</style>\n",
       "<table border=\"1\" class=\"dataframe\">\n",
       "  <thead>\n",
       "    <tr style=\"text-align: right;\">\n",
       "      <th></th>\n",
       "      <th>retailer</th>\n",
       "      <th>retailer_id</th>\n",
       "      <th>invoice_date</th>\n",
       "      <th>region</th>\n",
       "      <th>state</th>\n",
       "      <th>city</th>\n",
       "      <th>product</th>\n",
       "      <th>price_per_unit</th>\n",
       "      <th>units_sold</th>\n",
       "      <th>total_sales</th>\n",
       "      <th>operating_profit</th>\n",
       "      <th>sales_method</th>\n",
       "    </tr>\n",
       "  </thead>\n",
       "  <tbody>\n",
       "    <tr>\n",
       "      <th>0</th>\n",
       "      <td>Foot Locker</td>\n",
       "      <td>1185732</td>\n",
       "      <td>1/1/20</td>\n",
       "      <td>Northeast</td>\n",
       "      <td>New York</td>\n",
       "      <td>New York</td>\n",
       "      <td>Men's Street Footwear</td>\n",
       "      <td>50</td>\n",
       "      <td>1200</td>\n",
       "      <td>600000</td>\n",
       "      <td>300000.00</td>\n",
       "      <td>In-store</td>\n",
       "    </tr>\n",
       "    <tr>\n",
       "      <th>1</th>\n",
       "      <td>Foot Locker</td>\n",
       "      <td>1185732</td>\n",
       "      <td>1/1/20</td>\n",
       "      <td>Northeast</td>\n",
       "      <td>Pennsylvania</td>\n",
       "      <td>Philadelphia</td>\n",
       "      <td>Women's Apparel</td>\n",
       "      <td>68</td>\n",
       "      <td>83</td>\n",
       "      <td>5644</td>\n",
       "      <td>2426.92</td>\n",
       "      <td>Online</td>\n",
       "    </tr>\n",
       "    <tr>\n",
       "      <th>2</th>\n",
       "      <td>Foot Locker</td>\n",
       "      <td>1185732</td>\n",
       "      <td>1/1/20</td>\n",
       "      <td>Northeast</td>\n",
       "      <td>Pennsylvania</td>\n",
       "      <td>Philadelphia</td>\n",
       "      <td>Women's Apparel</td>\n",
       "      <td>75</td>\n",
       "      <td>275</td>\n",
       "      <td>206250</td>\n",
       "      <td>61875.00</td>\n",
       "      <td>Outlet</td>\n",
       "    </tr>\n",
       "    <tr>\n",
       "      <th>3</th>\n",
       "      <td>Foot Locker</td>\n",
       "      <td>1185732</td>\n",
       "      <td>1/1/20</td>\n",
       "      <td>Northeast</td>\n",
       "      <td>New York</td>\n",
       "      <td>New York</td>\n",
       "      <td>Men's Street Footwear</td>\n",
       "      <td>34</td>\n",
       "      <td>384</td>\n",
       "      <td>13056</td>\n",
       "      <td>6789.12</td>\n",
       "      <td>Outlet</td>\n",
       "    </tr>\n",
       "    <tr>\n",
       "      <th>4</th>\n",
       "      <td>Foot Locker</td>\n",
       "      <td>1185732</td>\n",
       "      <td>1/1/20</td>\n",
       "      <td>Northeast</td>\n",
       "      <td>Pennsylvania</td>\n",
       "      <td>Philadelphia</td>\n",
       "      <td>Women's Apparel</td>\n",
       "      <td>53</td>\n",
       "      <td>83</td>\n",
       "      <td>4399</td>\n",
       "      <td>1407.68</td>\n",
       "      <td>Outlet</td>\n",
       "    </tr>\n",
       "  </tbody>\n",
       "</table>\n",
       "</div>"
      ],
      "text/plain": [
       "      retailer  retailer_id invoice_date     region         state  \\\n",
       "0  Foot Locker      1185732       1/1/20  Northeast      New York   \n",
       "1  Foot Locker      1185732       1/1/20  Northeast  Pennsylvania   \n",
       "2  Foot Locker      1185732       1/1/20  Northeast  Pennsylvania   \n",
       "3  Foot Locker      1185732       1/1/20  Northeast      New York   \n",
       "4  Foot Locker      1185732       1/1/20  Northeast  Pennsylvania   \n",
       "\n",
       "           city                product  price_per_unit  units_sold  \\\n",
       "0      New York  Men's Street Footwear              50        1200   \n",
       "1  Philadelphia        Women's Apparel              68          83   \n",
       "2  Philadelphia        Women's Apparel              75         275   \n",
       "3      New York  Men's Street Footwear              34         384   \n",
       "4  Philadelphia        Women's Apparel              53          83   \n",
       "\n",
       "   total_sales  operating_profit sales_method  \n",
       "0       600000         300000.00     In-store  \n",
       "1         5644           2426.92       Online  \n",
       "2       206250          61875.00       Outlet  \n",
       "3        13056           6789.12       Outlet  \n",
       "4         4399           1407.68       Outlet  "
      ]
     },
     "metadata": {},
     "output_type": "display_data"
    }
   ],
   "source": [
    "# Display the 2020 sales DataFrame\n",
    "print(\"Athletic Sales 2020:\")\n",
    "display(df_2020.head())"
   ]
  },
  {
   "cell_type": "code",
   "execution_count": 5,
   "metadata": {},
   "outputs": [
    {
     "name": "stdout",
     "output_type": "stream",
     "text": [
      "Athletic Sales 2021:\n"
     ]
    },
    {
     "data": {
      "text/html": [
       "<div>\n",
       "<style scoped>\n",
       "    .dataframe tbody tr th:only-of-type {\n",
       "        vertical-align: middle;\n",
       "    }\n",
       "\n",
       "    .dataframe tbody tr th {\n",
       "        vertical-align: top;\n",
       "    }\n",
       "\n",
       "    .dataframe thead th {\n",
       "        text-align: right;\n",
       "    }\n",
       "</style>\n",
       "<table border=\"1\" class=\"dataframe\">\n",
       "  <thead>\n",
       "    <tr style=\"text-align: right;\">\n",
       "      <th></th>\n",
       "      <th>retailer</th>\n",
       "      <th>retailer_id</th>\n",
       "      <th>invoice_date</th>\n",
       "      <th>region</th>\n",
       "      <th>state</th>\n",
       "      <th>city</th>\n",
       "      <th>product</th>\n",
       "      <th>price_per_unit</th>\n",
       "      <th>units_sold</th>\n",
       "      <th>total_sales</th>\n",
       "      <th>operating_profit</th>\n",
       "      <th>sales_method</th>\n",
       "    </tr>\n",
       "  </thead>\n",
       "  <tbody>\n",
       "    <tr>\n",
       "      <th>0</th>\n",
       "      <td>West Gear</td>\n",
       "      <td>1128299</td>\n",
       "      <td>1/1/21</td>\n",
       "      <td>West</td>\n",
       "      <td>California</td>\n",
       "      <td>San Francisco</td>\n",
       "      <td>Men's Athletic Footwear</td>\n",
       "      <td>65</td>\n",
       "      <td>750</td>\n",
       "      <td>487500</td>\n",
       "      <td>121875.00</td>\n",
       "      <td>Outlet</td>\n",
       "    </tr>\n",
       "    <tr>\n",
       "      <th>1</th>\n",
       "      <td>West Gear</td>\n",
       "      <td>1128299</td>\n",
       "      <td>1/1/21</td>\n",
       "      <td>West</td>\n",
       "      <td>California</td>\n",
       "      <td>San Francisco</td>\n",
       "      <td>Men's Athletic Footwear</td>\n",
       "      <td>51</td>\n",
       "      <td>233</td>\n",
       "      <td>11883</td>\n",
       "      <td>3208.41</td>\n",
       "      <td>Outlet</td>\n",
       "    </tr>\n",
       "    <tr>\n",
       "      <th>2</th>\n",
       "      <td>Kohl's</td>\n",
       "      <td>1189833</td>\n",
       "      <td>1/1/21</td>\n",
       "      <td>Midwest</td>\n",
       "      <td>Montana</td>\n",
       "      <td>Billings</td>\n",
       "      <td>Men's Apparel</td>\n",
       "      <td>50</td>\n",
       "      <td>275</td>\n",
       "      <td>137500</td>\n",
       "      <td>82500.00</td>\n",
       "      <td>Outlet</td>\n",
       "    </tr>\n",
       "    <tr>\n",
       "      <th>3</th>\n",
       "      <td>Kohl's</td>\n",
       "      <td>1189833</td>\n",
       "      <td>1/1/21</td>\n",
       "      <td>Midwest</td>\n",
       "      <td>Montana</td>\n",
       "      <td>Billings</td>\n",
       "      <td>Men's Apparel</td>\n",
       "      <td>47</td>\n",
       "      <td>77</td>\n",
       "      <td>3619</td>\n",
       "      <td>2714.25</td>\n",
       "      <td>Online</td>\n",
       "    </tr>\n",
       "    <tr>\n",
       "      <th>4</th>\n",
       "      <td>West Gear</td>\n",
       "      <td>1128299</td>\n",
       "      <td>1/1/21</td>\n",
       "      <td>West</td>\n",
       "      <td>California</td>\n",
       "      <td>San Francisco</td>\n",
       "      <td>Men's Athletic Footwear</td>\n",
       "      <td>64</td>\n",
       "      <td>225</td>\n",
       "      <td>14400</td>\n",
       "      <td>5184.00</td>\n",
       "      <td>Online</td>\n",
       "    </tr>\n",
       "  </tbody>\n",
       "</table>\n",
       "</div>"
      ],
      "text/plain": [
       "    retailer  retailer_id invoice_date   region       state           city  \\\n",
       "0  West Gear      1128299       1/1/21     West  California  San Francisco   \n",
       "1  West Gear      1128299       1/1/21     West  California  San Francisco   \n",
       "2     Kohl's      1189833       1/1/21  Midwest     Montana       Billings   \n",
       "3     Kohl's      1189833       1/1/21  Midwest     Montana       Billings   \n",
       "4  West Gear      1128299       1/1/21     West  California  San Francisco   \n",
       "\n",
       "                   product  price_per_unit  units_sold  total_sales  \\\n",
       "0  Men's Athletic Footwear              65         750       487500   \n",
       "1  Men's Athletic Footwear              51         233        11883   \n",
       "2            Men's Apparel              50         275       137500   \n",
       "3            Men's Apparel              47          77         3619   \n",
       "4  Men's Athletic Footwear              64         225        14400   \n",
       "\n",
       "   operating_profit sales_method  \n",
       "0         121875.00       Outlet  \n",
       "1           3208.41       Outlet  \n",
       "2          82500.00       Outlet  \n",
       "3           2714.25       Online  \n",
       "4           5184.00       Online  "
      ]
     },
     "metadata": {},
     "output_type": "display_data"
    }
   ],
   "source": [
    "# Display the 2021 sales DataFrame\n",
    "print(\"Athletic Sales 2021:\")\n",
    "display(df_2021.head())"
   ]
  },
  {
   "cell_type": "markdown",
   "metadata": {},
   "source": [
    "#### Check the data types of each DataFrame"
   ]
  },
  {
   "cell_type": "code",
   "execution_count": 6,
   "metadata": {},
   "outputs": [
    {
     "name": "stdout",
     "output_type": "stream",
     "text": [
      "Data Types for 2020:\n",
      "retailer             object\n",
      "retailer_id           int64\n",
      "invoice_date         object\n",
      "region               object\n",
      "state                object\n",
      "city                 object\n",
      "product              object\n",
      "price_per_unit        int64\n",
      "units_sold            int64\n",
      "total_sales           int64\n",
      "operating_profit    float64\n",
      "sales_method         object\n",
      "dtype: object\n"
     ]
    }
   ],
   "source": [
    "# Check the 2020 sales data types.\n",
    "print(\"Data Types for 2020:\")\n",
    "print(df_2020.dtypes)"
   ]
  },
  {
   "cell_type": "code",
   "execution_count": 7,
   "metadata": {},
   "outputs": [
    {
     "name": "stdout",
     "output_type": "stream",
     "text": [
      "Data Types for 2021:\n",
      "retailer             object\n",
      "retailer_id           int64\n",
      "invoice_date         object\n",
      "region               object\n",
      "state                object\n",
      "city                 object\n",
      "product              object\n",
      "price_per_unit        int64\n",
      "units_sold            int64\n",
      "total_sales           int64\n",
      "operating_profit    float64\n",
      "sales_method         object\n",
      "dtype: object\n"
     ]
    }
   ],
   "source": [
    "# Check the 2021 sales data types.\n",
    "print(\"Data Types for 2021:\")\n",
    "print(df_2021.dtypes)"
   ]
  },
  {
   "cell_type": "markdown",
   "metadata": {},
   "source": [
    "#### Combine the sales data by rows."
   ]
  },
  {
   "cell_type": "code",
   "execution_count": 8,
   "metadata": {},
   "outputs": [
    {
     "name": "stdout",
     "output_type": "stream",
     "text": [
      "         retailer  retailer_id invoice_date     region         state  \\\n",
      "0     Foot Locker      1185732       1/1/20  Northeast      New York   \n",
      "1     Foot Locker      1185732       1/1/20  Northeast  Pennsylvania   \n",
      "2     Foot Locker      1185732       1/1/20  Northeast  Pennsylvania   \n",
      "3     Foot Locker      1185732       1/1/20  Northeast      New York   \n",
      "4     Foot Locker      1185732       1/1/20  Northeast  Pennsylvania   \n",
      "...           ...          ...          ...        ...           ...   \n",
      "9638  Foot Locker      1185732     12/31/21  Northeast  Pennsylvania   \n",
      "9639  Foot Locker      1185732     12/31/21  Northeast  Pennsylvania   \n",
      "9640       Amazon      1185732     12/31/21  Northeast         Maine   \n",
      "9641       Amazon      1185732     12/31/21  Northeast         Maine   \n",
      "9642  Foot Locker      1185732     12/31/21  Northeast  Pennsylvania   \n",
      "\n",
      "              city                product  price_per_unit  units_sold  \\\n",
      "0         New York  Men's Street Footwear              50        1200   \n",
      "1     Philadelphia        Women's Apparel              68          83   \n",
      "2     Philadelphia        Women's Apparel              75         275   \n",
      "3         New York  Men's Street Footwear              34         384   \n",
      "4     Philadelphia        Women's Apparel              53          83   \n",
      "...            ...                    ...             ...         ...   \n",
      "9638  Philadelphia          Men's Apparel              63          47   \n",
      "9639  Philadelphia          Men's Apparel              46          56   \n",
      "9640      Portland          Men's Apparel              52          36   \n",
      "9641      Portland          Men's Apparel              55         125   \n",
      "9642  Philadelphia          Men's Apparel              70         175   \n",
      "\n",
      "      total_sales  operating_profit sales_method  \n",
      "0          600000         300000.00     In-store  \n",
      "1            5644           2426.92       Online  \n",
      "2          206250          61875.00       Outlet  \n",
      "3           13056           6789.12       Outlet  \n",
      "4            4399           1407.68       Outlet  \n",
      "...           ...               ...          ...  \n",
      "9638         2961           1362.06       Online  \n",
      "9639         2576           1004.64       Outlet  \n",
      "9640         1872            692.64       Online  \n",
      "9641        68750          17187.50       Outlet  \n",
      "9642       122500          42875.00       Outlet  \n",
      "\n",
      "[9643 rows x 12 columns]\n"
     ]
    }
   ],
   "source": [
    "# Combine the 2020 and 2021 sales DataFrames on the rows and reset the index.\n",
    "combined_df = pd.concat([df_2020, df_2021], ignore_index=True)\n",
    "print(combined_df)"
   ]
  },
  {
   "cell_type": "code",
   "execution_count": 9,
   "metadata": {},
   "outputs": [
    {
     "name": "stdout",
     "output_type": "stream",
     "text": [
      "retailer            0\n",
      "retailer_id         0\n",
      "invoice_date        0\n",
      "region              0\n",
      "state               0\n",
      "city                0\n",
      "product             0\n",
      "price_per_unit      0\n",
      "units_sold          0\n",
      "total_sales         0\n",
      "operating_profit    0\n",
      "sales_method        0\n",
      "dtype: int64\n"
     ]
    }
   ],
   "source": [
    "# Check if any values are null.\n",
    "null_values = combined_df.isnull().sum()\n",
    "print(null_values)"
   ]
  },
  {
   "cell_type": "code",
   "execution_count": 10,
   "metadata": {},
   "outputs": [
    {
     "name": "stdout",
     "output_type": "stream",
     "text": [
      "False\n"
     ]
    }
   ],
   "source": [
    "any_nulls = combined_df.isnull().values.any()\n",
    "print(any_nulls)"
   ]
  },
  {
   "cell_type": "code",
   "execution_count": 11,
   "metadata": {},
   "outputs": [
    {
     "name": "stdout",
     "output_type": "stream",
     "text": [
      "retailer             object\n",
      "retailer_id           int64\n",
      "invoice_date         object\n",
      "region               object\n",
      "state                object\n",
      "city                 object\n",
      "product              object\n",
      "price_per_unit        int64\n",
      "units_sold            int64\n",
      "total_sales           int64\n",
      "operating_profit    float64\n",
      "sales_method         object\n",
      "dtype: object\n"
     ]
    }
   ],
   "source": [
    "# Check the data type of each column\n",
    "column_data_types = combined_df.dtypes\n",
    "print(column_data_types)"
   ]
  },
  {
   "cell_type": "code",
   "execution_count": 12,
   "metadata": {},
   "outputs": [
    {
     "name": "stderr",
     "output_type": "stream",
     "text": [
      "C:\\Users\\Sandeep\\AppData\\Local\\Temp\\ipykernel_15048\\4211569784.py:2: UserWarning: Could not infer format, so each element will be parsed individually, falling back to `dateutil`. To ensure parsing is consistent and as-expected, please specify a format.\n",
      "  combined_df['invoice_date'] = pd.to_datetime(combined_df['invoice_date'])\n"
     ]
    },
    {
     "name": "stdout",
     "output_type": "stream",
     "text": [
      "retailer                    object\n",
      "retailer_id                  int64\n",
      "invoice_date        datetime64[ns]\n",
      "region                      object\n",
      "state                       object\n",
      "city                        object\n",
      "product                     object\n",
      "price_per_unit               int64\n",
      "units_sold                   int64\n",
      "total_sales                  int64\n",
      "operating_profit           float64\n",
      "sales_method                object\n",
      "dtype: object\n"
     ]
    }
   ],
   "source": [
    "# Convert the \"invoice_date\" to a datetime datatype\n",
    "combined_df['invoice_date'] = pd.to_datetime(combined_df['invoice_date'])\n",
    "print(combined_df.dtypes)"
   ]
  },
  {
   "cell_type": "code",
   "execution_count": 13,
   "metadata": {},
   "outputs": [
    {
     "name": "stdout",
     "output_type": "stream",
     "text": [
      "         retailer  retailer_id invoice_date     region         state  \\\n",
      "0     Foot Locker      1185732   2020-01-01  Northeast      New York   \n",
      "1     Foot Locker      1185732   2020-01-01  Northeast  Pennsylvania   \n",
      "2     Foot Locker      1185732   2020-01-01  Northeast  Pennsylvania   \n",
      "3     Foot Locker      1185732   2020-01-01  Northeast      New York   \n",
      "4     Foot Locker      1185732   2020-01-01  Northeast  Pennsylvania   \n",
      "...           ...          ...          ...        ...           ...   \n",
      "9638  Foot Locker      1185732   2021-12-31  Northeast  Pennsylvania   \n",
      "9639  Foot Locker      1185732   2021-12-31  Northeast  Pennsylvania   \n",
      "9640       Amazon      1185732   2021-12-31  Northeast         Maine   \n",
      "9641       Amazon      1185732   2021-12-31  Northeast         Maine   \n",
      "9642  Foot Locker      1185732   2021-12-31  Northeast  Pennsylvania   \n",
      "\n",
      "              city                product  price_per_unit  units_sold  \\\n",
      "0         New York  Men's Street Footwear              50        1200   \n",
      "1     Philadelphia        Women's Apparel              68          83   \n",
      "2     Philadelphia        Women's Apparel              75         275   \n",
      "3         New York  Men's Street Footwear              34         384   \n",
      "4     Philadelphia        Women's Apparel              53          83   \n",
      "...            ...                    ...             ...         ...   \n",
      "9638  Philadelphia          Men's Apparel              63          47   \n",
      "9639  Philadelphia          Men's Apparel              46          56   \n",
      "9640      Portland          Men's Apparel              52          36   \n",
      "9641      Portland          Men's Apparel              55         125   \n",
      "9642  Philadelphia          Men's Apparel              70         175   \n",
      "\n",
      "      total_sales  operating_profit sales_method  \n",
      "0          600000         300000.00     In-store  \n",
      "1            5644           2426.92       Online  \n",
      "2          206250          61875.00       Outlet  \n",
      "3           13056           6789.12       Outlet  \n",
      "4            4399           1407.68       Outlet  \n",
      "...           ...               ...          ...  \n",
      "9638         2961           1362.06       Online  \n",
      "9639         2576           1004.64       Outlet  \n",
      "9640         1872            692.64       Online  \n",
      "9641        68750          17187.50       Outlet  \n",
      "9642       122500          42875.00       Outlet  \n",
      "\n",
      "[9643 rows x 12 columns]\n"
     ]
    }
   ],
   "source": [
    "# Confirm that the \"invoice_date\" data type has been changed.\n",
    "print(combined_df)"
   ]
  },
  {
   "cell_type": "markdown",
   "metadata": {},
   "source": [
    "### 2. Determine which Region Sold the Most Products"
   ]
  },
  {
   "cell_type": "markdown",
   "metadata": {},
   "source": [
    "#### Using `groupby`"
   ]
  },
  {
   "cell_type": "code",
   "execution_count": 14,
   "metadata": {},
   "outputs": [
    {
     "name": "stdout",
     "output_type": "stream",
     "text": [
      "       region       state           city  Total_Products_Sold\n",
      "21  Northeast    New York       New York               111954\n",
      "33      South       Texas        Houston                90322\n",
      "44       West  California  San Francisco                85478\n",
      "43       West  California    Los Angeles                76384\n",
      "34  Southeast     Florida          Miami                73135\n"
     ]
    }
   ],
   "source": [
    "# Show the number products sold for region, state, and city.\n",
    "sales_by_region = combined_df.groupby(['region', 'state', 'city'])['units_sold'].sum().reset_index()\n",
    "\n",
    "# Rename the sum to \"Total_Products_Sold\".\n",
    "sales_by_region.rename(columns={'units_sold': 'Total_Products_Sold'}, inplace=True)\n",
    "sales_by_region_sorted = sales_by_region.sort_values(by='Total_Products_Sold', ascending=False)\n",
    "# Show the top 5 results.\n",
    "print(sales_by_region_sorted.head(5))"
   ]
  },
  {
   "cell_type": "markdown",
   "metadata": {},
   "source": [
    "#### Using `pivot_table`"
   ]
  },
  {
   "cell_type": "code",
   "execution_count": 15,
   "metadata": {},
   "outputs": [
    {
     "name": "stdout",
     "output_type": "stream",
     "text": [
      "       region       state           city  Total_Products_Sold\n",
      "21  Northeast    New York       New York               111954\n",
      "33      South       Texas        Houston                90322\n",
      "44       West  California  San Francisco                85478\n",
      "43       West  California    Los Angeles                76384\n",
      "34  Southeast     Florida          Miami                73135\n"
     ]
    }
   ],
   "source": [
    "# Show the number products sold for region, state, and city.\n",
    "pivot_products_sold = combined_df.pivot_table(\n",
    "    values='units_sold',  \n",
    "    index=['region', 'state', 'city'], \n",
    "    aggfunc='sum',  \n",
    "    fill_value=0  \n",
    ").reset_index()\n",
    "\n",
    "# Rename the \"units_sold\" column to \"Total_Products_Sold\"\n",
    "pivot_products_sold.rename(columns={'units_sold': 'Total_Products_Sold'}, inplace=True)\n",
    "pivot_products_sold_sorted = pivot_products_sold.sort_values(by='Total_Products_Sold', ascending=False)\n",
    "\n",
    "# Show the top 5 results.\n",
    "print(pivot_products_sold_sorted.head(5))\n"
   ]
  },
  {
   "cell_type": "markdown",
   "metadata": {},
   "source": [
    "### 3. Determine which Region had the Most Sales"
   ]
  },
  {
   "cell_type": "markdown",
   "metadata": {},
   "source": [
    "#### Using `groupby`"
   ]
  },
  {
   "cell_type": "code",
   "execution_count": 16,
   "metadata": {},
   "outputs": [
    {
     "name": "stdout",
     "output_type": "stream",
     "text": [
      "       region           state           city  Total Sales\n",
      "21  Northeast        New York       New York     39801235\n",
      "44       West      California  San Francisco     33973228\n",
      "34  Southeast         Florida          Miami     31600863\n",
      "39  Southeast  South Carolina     Charleston     29285637\n",
      "35  Southeast         Florida        Orlando     27682851\n"
     ]
    }
   ],
   "source": [
    "# Show the total sales for the products sold for each region, state, and city.\n",
    "sales_by_region = combined_df.groupby(['region', 'state', 'city'])['total_sales'].sum().reset_index()\n",
    "\n",
    "# Rename the \"total_sales\" column to \"Total Sales\"\n",
    "sales_by_region.rename(columns={'total_sales': 'Total Sales'}, inplace=True)\n",
    "sales_by_region_sorted = sales_by_region.sort_values(by='Total Sales', ascending=False)\n",
    "\n",
    "# Show the top 5 results.\n",
    "print(sales_by_region_sorted.head(5))"
   ]
  },
  {
   "cell_type": "markdown",
   "metadata": {},
   "source": [
    "#### Using `pivot_table`"
   ]
  },
  {
   "cell_type": "code",
   "execution_count": 17,
   "metadata": {},
   "outputs": [
    {
     "name": "stdout",
     "output_type": "stream",
     "text": [
      "       region           state           city  Total Sales\n",
      "21  Northeast        New York       New York     39801235\n",
      "44       West      California  San Francisco     33973228\n",
      "34  Southeast         Florida          Miami     31600863\n",
      "39  Southeast  South Carolina     Charleston     29285637\n",
      "35  Southeast         Florida        Orlando     27682851\n"
     ]
    }
   ],
   "source": [
    "# Show the total sales for the products sold for each region, state, and city.\n",
    "pivot_sales = combined_df.pivot_table(\n",
    "    values='total_sales',  \n",
    "    index=['region', 'state', 'city'],  \n",
    "    aggfunc='sum',  \n",
    "    fill_value=0  \n",
    ").reset_index()\n",
    "# Optional: Rename the \"total_sales\" column to \"Total Sales\"\n",
    "pivot_sales.rename(columns={'total_sales': 'Total Sales'}, inplace=True)\n",
    "pivot_sales_sorted = pivot_sales.sort_values(by='Total Sales', ascending=False)\n",
    "\n",
    "# Show the top 5 results.\n",
    "print(pivot_sales_sorted.head(5))"
   ]
  },
  {
   "cell_type": "markdown",
   "metadata": {},
   "source": [
    "### 4. Determine which Retailer had the Most Sales"
   ]
  },
  {
   "cell_type": "markdown",
   "metadata": {},
   "source": [
    "#### Using `groupby`"
   ]
  },
  {
   "cell_type": "code",
   "execution_count": 18,
   "metadata": {},
   "outputs": [
    {
     "name": "stdout",
     "output_type": "stream",
     "text": [
      "        retailer     region           state           city  Total Sales\n",
      "103    West Gear       West      California  San Francisco     32794405\n",
      "50        Kohl's       West      California    Los Angeles     25127160\n",
      "22   Foot Locker  Northeast        New York       New York     25008568\n",
      "109    West Gear       West      Washington        Seattle     24862675\n",
      "33   Foot Locker  Southeast  South Carolina     Charleston     24822280\n"
     ]
    }
   ],
   "source": [
    "# Show the total sales for the products sold for each retailer, region, state, and city.\n",
    "sales_by_retailer = combined_df.groupby(['retailer', 'region', 'state', 'city'])['total_sales'].sum().reset_index()\n",
    "\n",
    "\n",
    "# Rename the \"total_sales\" column to \"Total Sales\"\n",
    "sales_by_retailer.rename(columns={'total_sales': 'Total Sales'}, inplace=True)\n",
    "sales_by_retailer_sorted = sales_by_retailer.sort_values(by='Total Sales', ascending=False)\n",
    "\n",
    "# Show the top 5 results.\n",
    "print(sales_by_retailer_sorted.head(5))\n"
   ]
  },
  {
   "cell_type": "markdown",
   "metadata": {},
   "source": [
    "#### Using `pivot_table`"
   ]
  },
  {
   "cell_type": "code",
   "execution_count": 19,
   "metadata": {},
   "outputs": [
    {
     "name": "stdout",
     "output_type": "stream",
     "text": [
      "        retailer     region           state           city  Total Sales\n",
      "103    West Gear       West      California  San Francisco     32794405\n",
      "50        Kohl's       West      California    Los Angeles     25127160\n",
      "22   Foot Locker  Northeast        New York       New York     25008568\n",
      "109    West Gear       West      Washington        Seattle     24862675\n",
      "33   Foot Locker  Southeast  South Carolina     Charleston     24822280\n"
     ]
    }
   ],
   "source": [
    "# Show the total sales for the products sold for each retailer, region, state, and city.\n",
    "pivot_sales = combined_df.pivot_table(\n",
    "    values='total_sales',  \n",
    "    index=['retailer', 'region', 'state', 'city'],  \n",
    "    aggfunc='sum',  \n",
    "    fill_value=0  \n",
    ").reset_index()\n",
    "\n",
    "# Optional: Rename the \"total_sales\" column to \"Total Sales\"\n",
    "pivot_sales.rename(columns={'total_sales': 'Total Sales'}, inplace=True)\n",
    "pivot_sales_sorted = pivot_sales.sort_values(by='Total Sales', ascending=False)\n",
    "\n",
    "# Show the top 5 results.\n",
    "print(pivot_sales_sorted.head(5))\n"
   ]
  },
  {
   "cell_type": "markdown",
   "metadata": {},
   "source": [
    "### 5. Determine which Retailer Sold the Most Women's Athletic Footwear"
   ]
  },
  {
   "cell_type": "code",
   "execution_count": 20,
   "metadata": {},
   "outputs": [],
   "source": [
    "# Filter the sales data to get the women's athletic footwear sales data.\n",
    "womens_footwear_df = combined_df[combined_df['product'] == \"Women's Athletic Footwear\"]\n",
    "\n",
    "\n"
   ]
  },
  {
   "cell_type": "markdown",
   "metadata": {},
   "source": [
    "#### Using `groupby`"
   ]
  },
  {
   "cell_type": "code",
   "execution_count": 21,
   "metadata": {},
   "outputs": [
    {
     "name": "stdout",
     "output_type": "stream",
     "text": [
      "          retailer     region           state           city  \\\n",
      "101      West Gear       West      California  San Francisco   \n",
      "22     Foot Locker  Northeast        New York       New York   \n",
      "49          Kohl's       West      California    Los Angeles   \n",
      "33     Foot Locker  Southeast  South Carolina     Charleston   \n",
      "68   Sports Direct      South           Texas         Dallas   \n",
      "\n",
      "     Womens_Footwear_Units_Sold  \n",
      "101                       12107  \n",
      "22                        10996  \n",
      "49                        10826  \n",
      "33                         8814  \n",
      "68                         8790  \n"
     ]
    }
   ],
   "source": [
    "# Show the total number of women's athletic footwear sold for each retailer, region, state, and city.\n",
    "womens_footwear_sales = womens_footwear_df.groupby(['retailer','region', 'state', 'city'])['units_sold'].sum().reset_index()\n",
    "\n",
    "# Rename the \"units_sold\" column to \"Womens_Footwear_Units_Sold\"\n",
    "\n",
    "womens_footwear_sales.rename(columns={'units_sold': 'Womens_Footwear_Units_Sold'}, inplace=True)\n",
    "womens_footwear_sales_sorted = womens_footwear_sales.sort_values(by='Womens_Footwear_Units_Sold', ascending=False)\n",
    "\n",
    "# Show the top 5 results.\n",
    "\n",
    "print(womens_footwear_sales_sorted.head(5))"
   ]
  },
  {
   "cell_type": "markdown",
   "metadata": {},
   "source": [
    "#### Using `pivot_table`"
   ]
  },
  {
   "cell_type": "code",
   "execution_count": 22,
   "metadata": {},
   "outputs": [
    {
     "name": "stdout",
     "output_type": "stream",
     "text": [
      "          retailer     region           state           city  \\\n",
      "101      West Gear       West      California  San Francisco   \n",
      "22     Foot Locker  Northeast        New York       New York   \n",
      "49          Kohl's       West      California    Los Angeles   \n",
      "33     Foot Locker  Southeast  South Carolina     Charleston   \n",
      "68   Sports Direct      South           Texas         Dallas   \n",
      "\n",
      "     Womens_Footwear_Units_Sold  \n",
      "101                       12107  \n",
      "22                        10996  \n",
      "49                        10826  \n",
      "33                         8814  \n",
      "68                         8790  \n"
     ]
    }
   ],
   "source": [
    "# Show the total number of women's athletic footwear sold for each retailer, region, state, and city.\n",
    "womens_footwear_df = combined_df[combined_df['product'] == \"Women's Athletic Footwear\"]\n",
    "\n",
    "pivot_units_sold = womens_footwear_df.pivot_table(\n",
    "    values='units_sold',  \n",
    "    index=['retailer', 'region', 'state', 'city'],  \n",
    "    aggfunc='sum',  \n",
    "    fill_value=0  \n",
    ").reset_index()\n",
    "\n",
    "# Rename the \"units_sold\" column to \"Womens_Footwear_Units_Sold\"\n",
    "\n",
    "pivot_units_sold.rename(columns={'units_sold': 'Womens_Footwear_Units_Sold'}, inplace=True)\n",
    "pivot_units_sold_sorted = pivot_units_sold.sort_values(by='Womens_Footwear_Units_Sold', ascending=False)\n",
    "\n",
    "# Show the top 5 results.\n",
    "print(pivot_units_sold_sorted.head(5))\n"
   ]
  },
  {
   "cell_type": "markdown",
   "metadata": {},
   "source": [
    "### 6. Determine the Day with the Most Women's Athletic Footwear Sales"
   ]
  },
  {
   "cell_type": "code",
   "execution_count": 48,
   "metadata": {},
   "outputs": [
    {
     "name": "stdout",
     "output_type": "stream",
     "text": [
      "    invoice_date  Total Sales\n",
      "227   2021-07-16      1521825\n",
      "344   2021-12-16      1473497\n",
      "206   2021-06-17      1376988\n",
      "250   2021-08-17      1086294\n",
      "233   2021-07-23      1021806\n",
      "323   2021-11-17      1021145\n",
      "338   2021-12-09       915011\n",
      "212   2021-06-24       884238\n",
      "221   2021-07-09       869054\n",
      "244   2021-08-10       839120\n"
     ]
    }
   ],
   "source": [
    "womens_footwear_df = combined_df[combined_df['product'] == \"Women's Athletic Footwear\"]\n",
    "# Create a pivot table with the 'invoice_date' column is the index, and the \"total_sales\" as the values.\n",
    "pivot_sales_by_date = womens_footwear_df.pivot_table(\n",
    "    values='total_sales',  \n",
    "    index='invoice_date',  \n",
    "    aggfunc='sum',  \n",
    "    fill_value=0  \n",
    ").reset_index()\n",
    "\n",
    "# Optional: Rename the \"total_sales\" column to \"Total Sales\"\n",
    "pivot_sales_by_date.rename(columns={'total_sales': 'Total Sales'}, inplace=True)\n",
    "pivot_sales_by_date_sorted = pivot_sales_by_date.sort_values(by='Total Sales', ascending=False)\n",
    "\n",
    "# Show the table.\n",
    "print(pivot_sales_by_date_sorted.head(10))"
   ]
  },
  {
   "cell_type": "code",
   "execution_count": 40,
   "metadata": {},
   "outputs": [],
   "source": [
    "# Resample the pivot table into daily bins, and get the total sales for each day.\n",
    "pivot_sales_by_date['invoice_date'] = pd.to_datetime(pivot_sales_by_date['invoice_date'])\n",
    "pivot_sales_by_date.set_index('invoice_date', inplace=True)\n",
    "\n",
    "weekly_sales = pivot_sales_by_date.resample('W').sum()\n",
    "\n",
    "# Sort the resampled pivot table in descending order on \"Total Sales\".\n",
    "\n",
    "top_10_weeks = weekly_sales.sort_values(by='Total Sales', ascending=False).head(10)\n"
   ]
  },
  {
   "cell_type": "code",
   "execution_count": 49,
   "metadata": {},
   "outputs": [
    {
     "name": "stdout",
     "output_type": "stream",
     "text": [
      "              Total Sales\n",
      "invoice_date             \n",
      "2021-12-19        3098970\n",
      "2021-12-12        2922161\n",
      "2021-07-11        2835078\n",
      "2021-07-18        2801449\n",
      "2021-11-14        2531721\n",
      "2021-08-22        2491259\n",
      "2021-08-15        2463941\n",
      "2021-11-21        2449537\n",
      "2021-05-16        2422132\n",
      "2021-06-13        2358602\n"
     ]
    }
   ],
   "source": [
    "print(top_10_weeks.head(10))"
   ]
  },
  {
   "cell_type": "markdown",
   "metadata": {},
   "source": [
    "### 7.  Determine the Week with the Most Women's Athletic Footwear Sales"
   ]
  },
  {
   "cell_type": "code",
   "execution_count": 50,
   "metadata": {},
   "outputs": [],
   "source": [
    "pivot_sales_by_date['invoice_date'] = pd.to_datetime(pivot_sales_by_date['invoice_date'])\n",
    "pivot_sales_by_date.set_index('invoice_date', inplace=True)\n",
    "# Resample the pivot table into weekly bins, and get the total sales for each week.\n",
    "weekly_sales = pivot_sales_by_date.resample('W').sum()\n",
    "# Sort the resampled pivot table in descending order on \"Total Sales\".\n",
    "weekly_sales_sorted = weekly_sales.sort_values(by='Total Sales', ascending=False)"
   ]
  },
  {
   "cell_type": "code",
   "execution_count": 51,
   "metadata": {},
   "outputs": [
    {
     "name": "stdout",
     "output_type": "stream",
     "text": [
      "              Total Sales\n",
      "invoice_date             \n",
      "2021-12-19        3098970\n",
      "2021-12-12        2922161\n",
      "2021-07-11        2835078\n",
      "2021-07-18        2801449\n",
      "2021-11-14        2531721\n",
      "2021-08-22        2491259\n",
      "2021-08-15        2463941\n",
      "2021-11-21        2449537\n",
      "2021-05-16        2422132\n",
      "2021-06-13        2358602\n"
     ]
    }
   ],
   "source": [
    "print(weekly_sales_sorted.head(10))"
   ]
  },
  {
   "cell_type": "code",
   "execution_count": null,
   "metadata": {},
   "outputs": [],
   "source": []
  }
 ],
 "metadata": {
  "kernelspec": {
   "display_name": "Python 3 (ipykernel)",
   "language": "python",
   "name": "python3"
  },
  "language_info": {
   "codemirror_mode": {
    "name": "ipython",
    "version": 3
   },
   "file_extension": ".py",
   "mimetype": "text/x-python",
   "name": "python",
   "nbconvert_exporter": "python",
   "pygments_lexer": "ipython3",
   "version": "3.12.4"
  }
 },
 "nbformat": 4,
 "nbformat_minor": 4
}
